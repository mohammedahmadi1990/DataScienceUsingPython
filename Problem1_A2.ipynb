{
  "nbformat": 4,
  "nbformat_minor": 0,
  "metadata": {
    "colab": {
      "name": "Problem1_A2.ipynb",
      "provenance": [],
      "collapsed_sections": []
    },
    "kernelspec": {
      "name": "python3",
      "display_name": "Python 3"
    },
    "language_info": {
      "name": "python"
    }
  },
  "cells": [
    {
      "cell_type": "markdown",
      "source": [
        "**Problem 1** Reduced Row Echelon Form and Rank"
      ],
      "metadata": {
        "id": "RslrDag6bbNN"
      }
    },
    {
      "cell_type": "code",
      "execution_count": 4,
      "metadata": {
        "id": "MLrLrFg8aVKn"
      },
      "outputs": [],
      "source": [
        "import numpy as np\n",
        "A = np.array([[1., 2., 2., 1.], [4., 8., 9., 3.], [0., 3., 2., 1.]])\n",
        "B = np.array([[1., 2., 3.], [2. ,4., 6. ], [1., 4., 8.]])\n",
        "\n"
      ]
    },
    {
      "cell_type": "markdown",
      "source": [
        "**1.1** Row echelon form by Gaussian elimination"
      ],
      "metadata": {
        "id": "9t1YqR0EbaHQ"
      }
    },
    {
      "cell_type": "code",
      "source": [
        "def checkAllZero(list1, val):\n",
        "    for x in list1:\n",
        "        if np.abs(x) > val:\n",
        "            return False\n",
        "    return True\n",
        "    \n",
        "def ref(A, eps=1e-10):\n",
        "  R = A.copy()\n",
        "  num_row = R.shape[0]\n",
        "  num_col = R.shape[1]\n",
        "  row_idx = 0\n",
        "  pvt_idx = 0\n",
        "  pvt_idx_list = []\n",
        "  ################Your code starts here#########################\n",
        "  while (row_idx < num_row and pvt_idx < num_col):\n",
        "    temp = [R[i][pvt_idx] for i in range(row_idx,num_row)]\n",
        "    if checkAllZero(temp, eps):\n",
        "      pvt_idx += 1\n",
        "      continue\n",
        "    if np.abs(R[row_idx][pvt_idx]) <= eps:\n",
        "      temp2 = [R[j][pvt_idx] for j in range(row_idx,num_row)]\n",
        "      nonzero_idx = np.argmax(temp2) # - eps)\n",
        "      R[row_idx][:] = R[row_idx + nonzero_idx][:]\n",
        "    for r in range(row_idx + 1, num_row):\n",
        "      multiplier = np.multiply(-1,R[r][pvt_idx])/R[row_idx][pvt_idx]\n",
        "      R[r][:] += np.multiply(multiplier, R[row_idx][:])\n",
        "    pvt_idx_list.append(pvt_idx)\n",
        "    pvt_idx += 1\n",
        "    row_idx += 1\n",
        "  ###############################################################\n",
        "  return R, pvt_idx_list"
      ],
      "metadata": {
        "id": "529Tmlc-af3V"
      },
      "execution_count": 6,
      "outputs": []
    },
    {
      "cell_type": "code",
      "source": [
        "R, pvt_idx_list = ref(A)\n",
        "# print out the row echelon form\n",
        "print(\"row echelon form of A:\")\n",
        "print(R)\n",
        "# print out the indices of pivot values\n",
        "print(\"Indices of pivot values:\")\n",
        "print(pvt_idx_list)"
      ],
      "metadata": {
        "id": "Jd3aDgAIcWhw",
        "colab": {
          "base_uri": "https://localhost:8080/"
        },
        "outputId": "81885770-08f5-490d-c6d1-b6e5414e71ed"
      },
      "execution_count": 7,
      "outputs": [
        {
          "output_type": "stream",
          "name": "stdout",
          "text": [
            "row echelon form of A:\n",
            "[[1. 2. 2. 1.]\n",
            " [0. 3. 2. 1.]\n",
            " [0. 0. 0. 0.]]\n",
            "Indices of pivot values:\n",
            "[0, 1]\n"
          ]
        }
      ]
    },
    {
      "cell_type": "code",
      "source": [
        "R, pvt_idx_list = ref(B)\n",
        "# print out the row echelon form\n",
        "print(\"row echelon form of B:\")\n",
        "print(R)\n",
        "# print out the indices of pivot values\n",
        "print(\"Indices of pivot values:\")\n",
        "print(pvt_idx_list)"
      ],
      "metadata": {
        "id": "sNcoOPuCdbGw",
        "colab": {
          "base_uri": "https://localhost:8080/"
        },
        "outputId": "b53ddf35-8ca7-46a3-de53-a92a733fa410"
      },
      "execution_count": 8,
      "outputs": [
        {
          "output_type": "stream",
          "name": "stdout",
          "text": [
            "row echelon form of B:\n",
            "[[1. 2. 3.]\n",
            " [0. 2. 5.]\n",
            " [0. 0. 0.]]\n",
            "Indices of pivot values:\n",
            "[0, 1]\n"
          ]
        }
      ]
    },
    {
      "cell_type": "markdown",
      "source": [
        "**1.2** Reduced row echelon form by Gauss-Jordan elimination"
      ],
      "metadata": {
        "id": "zS9C8gOrcANC"
      }
    },
    {
      "cell_type": "code",
      "source": [
        "def rref(A):\n",
        "  R, pvt_idx_list = ref(A)\n",
        "  num_row = R.shape[0]\n",
        "  num_col = R.shape[1]\n",
        "  #####################Your code starts here#######################\n",
        "  for row_idx, pvt_idx in enumerate(pvt_idx_list):\n",
        "    for i in range(0, row_idx):\n",
        "      multiplier = np.multiply(-1,R[i][pvt_idx])/R[row_idx][pvt_idx]\n",
        "      R[i][:] += np.multiply(multiplier, R[row_idx][:])\n",
        "  for row_idx, pvt_idx in enumerate(pvt_idx_list):\n",
        "    R[row_idx][:] = np.divide(R[row_idx][:],R[row_idx][pvt_idx])\n",
        "  ###################################################################\n",
        "  return R\n",
        "         "
      ],
      "metadata": {
        "id": "mthBJZJ2a3u_"
      },
      "execution_count": 9,
      "outputs": []
    },
    {
      "cell_type": "code",
      "source": [
        "R = rref(A)\n",
        "# print out the row echelon form\n",
        "print(\"reduced row echelon form of A:\")\n",
        "print(R)\n"
      ],
      "metadata": {
        "id": "3aMcvExZdhCZ",
        "colab": {
          "base_uri": "https://localhost:8080/"
        },
        "outputId": "c937cf4a-9d53-4714-e2f2-298dfab3ac97"
      },
      "execution_count": 10,
      "outputs": [
        {
          "output_type": "stream",
          "name": "stdout",
          "text": [
            "reduced row echelon form of A:\n",
            "[[1.         0.         0.66666667 0.33333333]\n",
            " [0.         1.         0.66666667 0.33333333]\n",
            " [0.         0.         0.         0.        ]]\n"
          ]
        }
      ]
    },
    {
      "cell_type": "code",
      "source": [
        "R = rref(B)\n",
        "# print out the row echelon form\n",
        "print(\"reduced row echelon form of B:\")\n",
        "print(R)"
      ],
      "metadata": {
        "id": "h-VL9dUweW13",
        "colab": {
          "base_uri": "https://localhost:8080/"
        },
        "outputId": "b5db574c-0077-47ed-ba2b-631b28eb0310"
      },
      "execution_count": 11,
      "outputs": [
        {
          "output_type": "stream",
          "name": "stdout",
          "text": [
            "reduced row echelon form of B:\n",
            "[[ 1.   0.  -2. ]\n",
            " [ 0.   1.   2.5]\n",
            " [ 0.   0.   0. ]]\n"
          ]
        }
      ]
    },
    {
      "cell_type": "code",
      "source": [
        "# A larger matrix to test the reduced row echelon form algorithm.\n",
        "C = np.array([[1., 2., 0., 2., 4., 6.], \n",
        "              [1., 2., 0., 3., 6., 9.], \n",
        "              [0., 0., 0., 1., 2., 3.], \n",
        "              [0., 0., 0., 2., 4., 5.]])\n",
        "\n",
        "R = rref(C)\n",
        "# print out the row echelon form\n",
        "print(\"reduced row echelon form of C:\")\n",
        "print(R)\n"
      ],
      "metadata": {
        "id": "gpwjsLVQeb8t",
        "colab": {
          "base_uri": "https://localhost:8080/"
        },
        "outputId": "16c544bf-ace3-411c-cb29-a33fcb2e2d7b"
      },
      "execution_count": 12,
      "outputs": [
        {
          "output_type": "stream",
          "name": "stdout",
          "text": [
            "reduced row echelon form of C:\n",
            "[[nan nan nan nan nan nan]\n",
            " [nan nan nan nan nan nan]\n",
            " [nan nan nan nan nan nan]\n",
            " [nan nan nan nan nan nan]]\n"
          ]
        },
        {
          "output_type": "stream",
          "name": "stderr",
          "text": [
            "/usr/local/lib/python3.7/dist-packages/ipykernel_launcher.py:25: RuntimeWarning: divide by zero encountered in double_scalars\n",
            "/usr/local/lib/python3.7/dist-packages/ipykernel_launcher.py:26: RuntimeWarning: invalid value encountered in multiply\n",
            "/usr/local/lib/python3.7/dist-packages/ipykernel_launcher.py:8: RuntimeWarning: invalid value encountered in double_scalars\n",
            "  \n",
            "/usr/local/lib/python3.7/dist-packages/ipykernel_launcher.py:8: RuntimeWarning: divide by zero encountered in double_scalars\n",
            "  \n",
            "/usr/local/lib/python3.7/dist-packages/ipykernel_launcher.py:9: RuntimeWarning: invalid value encountered in multiply\n",
            "  if __name__ == '__main__':\n",
            "/usr/local/lib/python3.7/dist-packages/ipykernel_launcher.py:11: RuntimeWarning: invalid value encountered in true_divide\n",
            "  # This is added back by InteractiveShellApp.init_path()\n"
          ]
        }
      ]
    },
    {
      "cell_type": "markdown",
      "source": [
        "**1.3** Matrix rank and number of pivots"
      ],
      "metadata": {
        "id": "fjz2YBq-fUgA"
      }
    },
    {
      "cell_type": "code",
      "source": [
        "X = np.array([[1., 2., 4., 1.], [3., 6., 12., 3.], [4., 8., 16., 4.]])\n",
        "Y = np.array([[1., 2., 4., 1.], [3., 6., 12., 3.], [4., 8., 16., 6.]])\n",
        "Z = np.array([[1., 2., 4., 1.], [3., 5., 12., 3.], [4., 8., 16., 6.]])\n",
        "# please use rref to generate the reduced row echelon form of matrices X, Y, Z\n",
        "# And then check the rank and dimension of nullspace of each matrix by eyes directly\n",
        "#########################Your code starts here##################################\n",
        "r_X = rref(X)\n",
        "r_Y = rref(Y)\n",
        "r_Z = rref(Z)\n",
        "\n",
        "print(r_X) #1\n",
        "print(r_Y) #2\n",
        "print(r_Z) #3\n",
        "\n",
        "r_X_t = 1\n",
        "r_Y_t = 2\n",
        "r_Z_t = 3\n",
        "\n",
        "################################################################################\n"
      ],
      "metadata": {
        "id": "3EGgNp66jA8u",
        "colab": {
          "base_uri": "https://localhost:8080/"
        },
        "outputId": "82115b29-7c8c-4156-9f17-99f696531568"
      },
      "execution_count": 39,
      "outputs": [
        {
          "output_type": "stream",
          "name": "stdout",
          "text": [
            "[[1. 2. 4. 1.]\n",
            " [0. 0. 0. 0.]\n",
            " [0. 0. 0. 0.]]\n",
            "[[1. 2. 4. 0.]\n",
            " [0. 0. 0. 1.]\n",
            " [0. 0. 0. 0.]]\n",
            "[[ 1.  0.  4.  0.]\n",
            " [-0.  1. -0. -0.]\n",
            " [ 0.  0.  0.  1.]]\n"
          ]
        }
      ]
    },
    {
      "cell_type": "code",
      "source": [
        "from numpy.linalg import matrix_rank\n",
        "#########Validate the answers about the matrices rank###########################\n",
        "r_X = matrix_rank(X)\n",
        "r_Y = matrix_rank(Y)\n",
        "r_Z = matrix_rank(Z)\n",
        "\n",
        "print(r_X)\n",
        "print(r_X)\n",
        "print(r_X)\n",
        "\n",
        "################################################################################"
      ],
      "metadata": {
        "id": "qYyRwHEwBUrh",
        "colab": {
          "base_uri": "https://localhost:8080/"
        },
        "outputId": "29fa0b35-3e21-4db4-d1ca-3dfe978b8f1a"
      },
      "execution_count": 48,
      "outputs": [
        {
          "output_type": "stream",
          "name": "stdout",
          "text": [
            "False\n"
          ]
        },
        {
          "output_type": "stream",
          "name": "stderr",
          "text": [
            "/usr/local/lib/python3.7/dist-packages/ipykernel_launcher.py:7: DeprecationWarning: `np.int` is a deprecated alias for the builtin `int`. To silence this warning, use `int` by itself. Doing this will not modify any behavior and is safe. When replacing `np.int`, you may wish to use e.g. `np.int64` or `np.int32` to specify the precision. If you wish to review your current use, check the release note link for additional information.\n",
            "Deprecated in NumPy 1.20; for more details and guidance: https://numpy.org/devdocs/release/1.20.0-notes.html#deprecations\n",
            "  import sys\n"
          ]
        }
      ]
    },
    {
      "cell_type": "markdown",
      "source": [
        "**Please double-click here and fill in the rank and dimension of nullspace of the these matrices**\n",
        "\n",
        "rank(X) = 1, dimension of null(X) = 2 \n",
        "\n",
        "rank(Y) = 2, dimension of null(Y) = 1\n",
        "\n",
        "rank(Z) = 3, dimension of null(Z) = 0\n"
      ],
      "metadata": {
        "id": "5DsM9r44rEmE"
      }
    }
  ]
}