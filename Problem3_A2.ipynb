{
  "nbformat": 4,
  "nbformat_minor": 0,
  "metadata": {
    "colab": {
      "name": "Problem3_A2.ipynb",
      "provenance": [],
      "collapsed_sections": []
    },
    "kernelspec": {
      "name": "python3",
      "display_name": "Python 3"
    },
    "language_info": {
      "name": "python"
    }
  },
  "cells": [
    {
      "cell_type": "markdown",
      "source": [
        "**Problem 3: Least squares approximation**"
      ],
      "metadata": {
        "id": "MHdvwybQsr6r"
      }
    },
    {
      "cell_type": "markdown",
      "source": [
        "**3.1** Solver linear system based on QR factorization"
      ],
      "metadata": {
        "id": "9WSiXw4nsulM"
      }
    },
    {
      "cell_type": "code",
      "execution_count": 51,
      "metadata": {
        "id": "ZN7jOcomrqXS",
        "colab": {
          "base_uri": "https://localhost:8080/"
        },
        "outputId": "eb0f4b39-1204-4340-d6ce-5a5edb53dac4"
      },
      "outputs": [
        {
          "output_type": "stream",
          "name": "stdout",
          "text": [
            "The relative error:\n",
            "6.138675112035648\n"
          ]
        }
      ],
      "source": [
        "from typing import AsyncGenerator\n",
        "import numpy as np\n",
        "import matplotlib.pyplot as plt\n",
        "np.random.seed(2022)\n",
        "A = np.random.randn(20, 20)\n",
        "x = np.random.randn(20,1)\n",
        "b = A@x\n",
        "\n",
        "\n",
        "def QR(A): # please directly copy QR function from Problem 2 here.\n",
        "  #####################Your code starts here##################################\n",
        "  (n, m) = np.shape(A)\n",
        "  Q = np.empty([n, n])\n",
        "  j = 0\n",
        "\n",
        "  for a in A.T:\n",
        "    u = np.copy(a)\n",
        "    for i in range(0, j):\n",
        "      proj = np.dot(np.dot(Q[:, i].T, a), Q[:, i])\n",
        "      u -= proj\n",
        "      \n",
        "    e = u / np.linalg.norm(u)\n",
        "    Q[:, j] = e\n",
        "    j += 1\n",
        "  R = np.dot(Q.T, A)\n",
        "  #############################################################################\n",
        "  return Q, R\n",
        "\n",
        "\n",
        "\n",
        "def backSubstitute(R, b_Q):\n",
        "  #######################Your code starts here #################################  \n",
        "  n = len(R)\n",
        "  x = np.zeros(n)\n",
        "  for i in range(n - 1, -1, -1):\n",
        "    temp = b_Q[i]\n",
        "    for j in range(n-1, i, -1):\n",
        "      temp -= x[j]*R[i][j]\n",
        "    x[i] = temp / R[i][i]\n",
        "  #############################################################################\n",
        "  return x\n",
        "\n",
        "\n",
        "def mySolver(A, b):\n",
        "  Q, R = QR(A)\n",
        "  b_Q = Q.T@b\n",
        "  x = backSubstitute(R, b_Q)\n",
        "  return x\n",
        "\n",
        "def relative_diff(x, x_hat):\n",
        "  ##########################Your code starts here###############################\n",
        "  #err =  # Please use formula(23)\n",
        "  ##############################################################################\n",
        "  err = np.linalg.norm(x-x_hat)/np.linalg.norm(x)\n",
        "  return err\n",
        "\n",
        "x_hat = mySolver(A, b)\n",
        "print(\"The relative error:\")\n",
        "print(relative_diff(x, x_hat))"
      ]
    },
    {
      "cell_type": "markdown",
      "source": [
        "**3.2** Data fitting by univariate linear regression"
      ],
      "metadata": {
        "id": "uPEBBOQfwyid"
      }
    },
    {
      "cell_type": "code",
      "source": [
        "b_consumption = np.array([ \n",
        "        63122, 60953, 59551, 58785, 59795, 60083, 61819, 63107, 64978, 66090, \n",
        "        66541, 67186, 67396, 67619, 69006, 70258, 71880, 73597, 74274, 75975, \n",
        "        76928, 77732, 78457, 80089, 83063, 84558, 85566, 86724, 86046, 84972, \n",
        "        88157, 89105, 90340, 91195 ])\n",
        "\n",
        "n = len(b_consumption)\n",
        "##############################Your code starts here########################\n",
        "# year = \n",
        "#A_consumption =  # Generate the matrix A according to formula (30)\n",
        "#    Hint: numpy.vstack, numpy.hstack, and numpy.zeros may be useful for you; \n",
        "#          check numpy doc (particularly their examples) to see how to use them \n",
        "years = np.array(np.arange(1980,2014))\n",
        "ones = np.array(np.zeros(len(years)) + 1)\n",
        "A_consumption = np.vstack((years,ones)).T\n",
        "x_hat_consumption  = mySolver(A_consumption,b_consumption)\n",
        "###########################################################################\n",
        "\n",
        "# plot the line fitting\n",
        "plt.figure()\n",
        "plt.scatter(np.arange(1980,2014), b_consumption)\n",
        "plt.plot(np.arange(1980,2014), A_consumption @ x_hat_consumption, 'r')\n",
        "plt.show()"
      ],
      "metadata": {
        "id": "Mwxkn8_iw7a5",
        "colab": {
          "base_uri": "https://localhost:8080/",
          "height": 283
        },
        "outputId": "6f7f130a-e41b-40ce-b8da-5eb80924ffd3"
      },
      "execution_count": 105,
      "outputs": [
        {
          "output_type": "stream",
          "name": "stdout",
          "text": [
            "[ 1.03257036e+03 -1.98785181e+06]\n"
          ]
        },
        {
          "output_type": "display_data",
          "data": {
            "text/plain": [
              "<Figure size 432x288 with 1 Axes>"
            ],
            "image/png": "[encoded data removed]"
          },
          "metadata": {
            "needs_background": "light"
          }
        }
      ]
    },
    {
      "cell_type": "markdown",
      "source": [
        "**3.3** Data fitting with multiple features"
      ],
      "metadata": {
        "id": "2mMyDGt90_P7"
      }
    },
    {
      "cell_type": "code",
      "source": [
        "from House_Sales_Data import house_sales_data \n",
        "# Please upload House_Sales_data.py file first according to first way in the contents of the link below\n",
        "#https://towardsdatascience.com/7-ways-to-load-external-data-into-google-colab-7ba73e7d5fc7\n",
        "\n",
        "F = house_sales_data()\n",
        "size = F[\"area\"]\n",
        "num_beds = F[\"beds\"]\n",
        "b_price = F[\"price\"]\n",
        "num_house = len(b_price)\n",
        "# print(F)\n",
        "###############################Your code starts here #########################\n",
        "# A_price =  # Please generate the matrix A accroding to size and num_beds\n",
        "##############################################################################\n",
        "beds_i = np.array(num_beds)\n",
        "size_i = np.array(size)\n",
        "ones = np.array(np.zeros(num_house) + 1)\n",
        "A_price = np.vstack((num_beds,size,ones)).T\n",
        "\n",
        "x_hat_price  = mySolver(A_price,b_price)\n",
        "\n",
        "def average_diff(b_price, b_price_hat):\n",
        "  #####################Your code starts here#############################\n",
        "  #err =  # Please implement the average difference according to formula(32)\n",
        "  #######################################################################\n",
        "  err = (1/744) * np.linalg.norm(b_price - b_price_hat)\n",
        "  return err\n",
        "##############################Your code starts here#######################\n",
        "#b_price_hat =   #Generate the estimation of price based on x_hat_price\n",
        "b_price_hat = np.dot(A_price,x_hat_price)\n",
        "##########################################################################\n",
        "err = average_diff(b_price, b_price_hat)\n",
        "print(\"Average difference between the actual prices and the predicted prices:\")\n",
        "print(err)\n",
        "\n"
      ],
      "metadata": {
        "id": "F-t2jFyJ1JL5",
        "colab": {
          "base_uri": "https://localhost:8080/"
        },
        "outputId": "5a2d574c-841e-4c22-d026-0996d24f8f5d"
      },
      "execution_count": 112,
      "outputs": [
        {
          "output_type": "stream",
          "name": "stdout",
          "text": [
            "Average difference between the actual prices and the predicted prices:\n",
            "2.798752503246047\n"
          ]
        }
      ]
    },
    {
      "cell_type": "code",
      "source": [
        ""
      ],
      "metadata": {
        "id": "gYqxazPJalv8"
      },
      "execution_count": null,
      "outputs": []
    }
  ]
}