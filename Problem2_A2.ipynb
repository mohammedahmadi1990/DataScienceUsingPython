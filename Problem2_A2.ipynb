{
  "nbformat": 4,
  "nbformat_minor": 0,
  "metadata": {
    "colab": {
      "name": "Problem2_A2.ipynb",
      "provenance": [],
      "collapsed_sections": []
    },
    "kernelspec": {
      "name": "python3",
      "display_name": "Python 3"
    },
    "language_info": {
      "name": "python"
    }
  },
  "cells": [
    {
      "cell_type": "markdown",
      "source": [
        "**Problem 2 QR Factorization**"
      ],
      "metadata": {
        "id": "M6Pt6UwfIlYR"
      }
    },
    {
      "cell_type": "markdown",
      "source": [
        "**2.1** Orthogonality"
      ],
      "metadata": {
        "id": "DyUGs7NPJLKT"
      }
    },
    {
      "cell_type": "code",
      "source": [
        "import numpy as np\n",
        "from sympy import Matrix\n",
        "R = np.array([[1., 0., -2.], [0., 1., 2.5], [0., 0., 0.]])\n",
        "#########################################################\n",
        "# Write down bases B_1 and B_2 after you've derived them \n",
        "#########################Your code starts here#########################\n",
        "#B_1 = [] # according to row space of R\n",
        "#B_2 = [] # according to special solution of the nullspace of R\n",
        "B_1 = R[0][:]-R[1][:]\n",
        "R[0][:] = B_1[:][:]\n",
        "B_1 = R\n",
        "\n",
        "N = Matrix(R)\n",
        "N = N.nullspace()\n",
        "B_2 = np.array(N)[0]\n",
        "#######################################################################\n",
        "def orth_check(B_1, B_2):\n",
        "  #### call the function from numpy.linalg.norm\n",
        "  ###########################Your code starts here########################\n",
        "  #res =    # numerical check the orthogonality accroding to formula(8)\n",
        "  ########################################################################\n",
        "  eps = pow(10,-10)\n",
        "  B1B2 = np.dot(B_1 , B_2)\n",
        "  n_B1B2 = np.linalg.norm(B1B2,1)\n",
        "  n_B1 = np.linalg.norm(B_1)\n",
        "  n_B2 = np.linalg.norm(B_2,1)\n",
        "  result = n_B1B2/n_B1*n_B2\n",
        "  if np.abs(result) <= eps:\n",
        "    res = True\n",
        "  else:\n",
        "    res = False\n",
        "\n",
        "  return res\n",
        "\n",
        "print('Numerically check the B_1 is orthogonal to B_2')\n",
        "print(orth_check(B_1, B_2))"
      ],
      "metadata": {
        "id": "L8ExzLmuJWfw",
        "colab": {
          "base_uri": "https://localhost:8080/"
        },
        "outputId": "094bbef2-a790-4473-974e-f654ae4c3e60"
      },
      "execution_count": 2,
      "outputs": [
        {
          "output_type": "stream",
          "name": "stdout",
          "text": [
            "Numerically check the B_1 is orthogonal to B_2\n",
            "True\n"
          ]
        }
      ]
    },
    {
      "cell_type": "markdown",
      "source": [
        "**2.2** Projection"
      ],
      "metadata": {
        "id": "mK-2azC1PwpI"
      }
    },
    {
      "cell_type": "code",
      "source": [
        "v = np.array([[6], [8], [7]])\n",
        "w = np.array([[3], [4], [0]])\n",
        "######################################################################\n",
        "def proj_vector(w, v):\n",
        "  # the function is doing the projection of v onto w\n",
        "  #######################Your code starts here########################\n",
        "  #p =  # p = P_w @v generate the projection based on formula (9) in pdf file\n",
        "  ####################################################################\n",
        "  p = np.dot((np.dot(w,w.T)/(np.linalg.norm(w)*np.linalg.norm(w))),v)\n",
        "  return p\n",
        "\n",
        "p_1 = proj_vector(w, v)\n",
        "\n",
        "import matplotlib.pyplot as plt\n",
        "def plot_3D_vec(w, v, p):\n",
        "  fig = plt.figure()\n",
        "  ax = plt.axes(projection='3d')\n",
        "\n",
        "  ax.set_xlim(-1, 15)\n",
        "  ax.set_ylim(-1, 20)\n",
        "  ax.set_zlim(-1, 8)\n",
        "\n",
        "  O = [0, 0, 0]\n",
        "  ax.quiver(O[0], O[1], O[2], w[0], w[1], w[2], label='w', color = 'black')\n",
        "  ax.quiver(O[0], O[1], O[2], v[0], v[1], v[2], label='v', color = 'blue')\n",
        "  ax.quiver(O[0], O[1], O[2], p[0], p[1], p[2], label='p', color = 'red')\n",
        "  ax.quiver(p[0], p[1], p[2], v[0]-p[0], v[1]-p[1], v[2]-p[2], label='error', color= 'green')\n",
        "  #ax.view_init(0, 0)\n",
        "  plt.legend()\n",
        "\n",
        "plot_3D_vec(w, v, p_1)\n",
        "\n",
        "#### check the crucial property of the projection#####################\n",
        "def check_proj_vec(w, v, p):\n",
        "  ########################Your code starts here########################\n",
        "  #res =  # numerically check <w, v-p> close enough to zero or not according to (13)\n",
        "  #####################################################################\n",
        "  eps = pow(10,-10)\n",
        "  ss = np.abs(w,v-p)\n",
        "  result = np.sqrt(np.dot(np.transpose(ss),ss))/(np.linalg.norm(w)*np.linalg.norm(v))\n",
        "  result = result.item()\n",
        "\n",
        "  if np.abs(result) <= eps:\n",
        "    res = True\n",
        "  else:\n",
        "    res = False\n",
        "  return res\n",
        "\n",
        "print(\"Check projection error orthogonal to w \")\n",
        "print(check_proj_vec(w, v, p_1))"
      ],
      "metadata": {
        "id": "CJpan8AFP1xZ",
        "colab": {
          "base_uri": "https://localhost:8080/",
          "height": 284
        },
        "outputId": "a2ca45bc-b0f5-4a16-b733-2137428f4545"
      },
      "execution_count": 4,
      "outputs": [
        {
          "output_type": "stream",
          "name": "stdout",
          "text": [
            "Check projection error orthogonal to w \n",
            "False\n"
          ]
        },
        {
          "output_type": "display_data",
          "data": {
            "text/plain": [
              "<Figure size 432x288 with 1 Axes>"
            ],
            "image/png": "[encoded data removed]"
          },
          "metadata": {
            "needs_background": "light"
          }
        }
      ]
    },
    {
      "cell_type": "code",
      "source": [
        "A = np.array([[1., 0.] ,[2., 1.] ,[0., 1.]])\n",
        "\n",
        "###################################################################\n",
        "def proj_matrix(A, v):\n",
        "  # the function is doing projection of v onto the column space of A\n",
        "  ##############################Your code starts here################\n",
        "  #p =   # p = P_A @v generate the projection based on formula (10) in pdf file\n",
        "  ###################################################################\n",
        "  s2 = np.dot(np.transpose(A),A)\n",
        "  s2 = pow(s2,-1)\n",
        "  s1 = np.dot(A,s2)\n",
        "  s3 = np.dot(np.transpose(A),v)\n",
        "  p = np.dot(s1,s3)\n",
        "  return p\n",
        "\n",
        "p_2 = proj_matrix(A, v)\n",
        "\n",
        "#### check the crucial property of the projection#####################\n",
        "def check_proj_matrix(A, v, p):\n",
        "  #########################Your code starts here#############################\n",
        "  #res =  # numerically check A^T(v-p) close enough to zero or not according to (13)\n",
        "  ###########################################################################\n",
        "  eps = pow(10,-10)\n",
        "  AT = np.transpose(A)\n",
        "  sec01 = np.linalg.norm(np.dot(AT,(v-p)))\n",
        "  sec02 = np.linalg.norm(A)*np.linalg.norm(v)\n",
        "  result = sec01/sec02\n",
        "  if np.abs(result) <= eps:\n",
        "    res = True\n",
        "  else:\n",
        "    res = False\n",
        "  return res\n",
        "\n",
        "print(\"Check projection error orthogonal to w \")\n",
        "print(check_proj_matrix(A, v, p_2))"
      ],
      "metadata": {
        "id": "J3wgwZuFenWt",
        "colab": {
          "base_uri": "https://localhost:8080/"
        },
        "outputId": "97caba9b-eae2-4398-c780-a6fe037faaa1"
      },
      "execution_count": 5,
      "outputs": [
        {
          "output_type": "stream",
          "name": "stdout",
          "text": [
            "Check projection error orthogonal to w \n",
            "False\n"
          ]
        }
      ]
    },
    {
      "cell_type": "markdown",
      "source": [
        "**2.3** QR factorization for matrix with independent columns"
      ],
      "metadata": {
        "id": "EvFeLD3rlQ4s"
      }
    },
    {
      "cell_type": "code",
      "source": [
        "A = np.array([[1., 2., 0.], [0., 1., 1.], [1., 0., 1.]])\n",
        "\n",
        "def QR(A):\n",
        "  #####################Your code starts here##################################\n",
        "  (n, m) = np.shape(A)\n",
        "  Q = np.empty([n, n])\n",
        "  j = 0\n",
        "\n",
        "  for a in A.T:\n",
        "    u = np.copy(a)\n",
        "    for i in range(0, j):\n",
        "      proj = np.dot(np.dot(Q[:, i].T, a), Q[:, i])\n",
        "      u -= proj\n",
        "      \n",
        "    e = u / np.linalg.norm(u)\n",
        "    Q[:, j] = e\n",
        "    j += 1\n",
        "  R = np.dot(Q.T, A)\n",
        "\n",
        "  #############################################################################\n",
        "  return Q, R\n",
        "\n",
        "Q, R = QR(A)\n",
        "print(\"QR Factorization:\")\n",
        "print(Q)\n",
        "print(R) # Please check your anwsers with the example of problem 2.3 shown in the pdf file"
      ],
      "metadata": {
        "id": "KXEEfjSZlcFr",
        "colab": {
          "base_uri": "https://localhost:8080/"
        },
        "outputId": "64828f08-6bd1-4f01-a1ca-fa611a338431"
      },
      "execution_count": 21,
      "outputs": [
        {
          "output_type": "stream",
          "name": "stdout",
          "text": [
            "QR Factorization:\n",
            "[[ 0.70710678  0.57735027 -0.40824829]\n",
            " [ 0.          0.57735027  0.81649658]\n",
            " [ 0.70710678 -0.57735027  0.40824829]]\n",
            "[[ 1.41421356e+00  1.41421356e+00  7.07106781e-01]\n",
            " [ 3.33066907e-16  1.73205081e+00  2.22044605e-16]\n",
            " [ 1.66533454e-16 -1.11022302e-16  1.22474487e+00]]\n"
          ]
        }
      ]
    },
    {
      "cell_type": "code",
      "source": [
        "B = np.array([[0.488894, 0.888396, 0.325191, 0.319207], \n",
        "              [1.03469, -1.14707, -0.754928, 0.312859], \n",
        "              [0.726885, -1.06887, 1.3703, -0.86488], \n",
        "              [-0.303441, -0.809499, -1.71152, -0.0300513], \n",
        "              [0.293871, -2.94428, -0.102242, -0.164879], \n",
        "              [-0.787283, 1.43838, -0.241447, 0.627707]])\n",
        "\n",
        "Q_1, R_1 =QR(B)\n",
        "\n",
        "\n",
        "print(\"QR Factorization:\")\n",
        "print(Q_1) # Print out Q_1, R_1 matrix out and you can check Q_1^T@Q_1 = I  \n",
        "print(R_1) # R_1 should be a up-triangular matrix \n",
        "          \n"
      ],
      "metadata": {
        "id": "OfGAgxmdnCl2",
        "colab": {
          "base_uri": "https://localhost:8080/"
        },
        "outputId": "a0206fa0-a677-468c-8cef-7a19f7db87f7"
      },
      "execution_count": 19,
      "outputs": [
        {
          "output_type": "stream",
          "name": "stdout",
          "text": [
            "QR Factorization:\n",
            "[[ 0.30110946  0.23218197  0.05732795  0.35021806]\n",
            " [ 0.63726483 -0.29978632 -0.51580534  0.67246002]\n",
            " [ 0.44768795 -0.27934878  0.47674763 -0.55792492]\n",
            " [-0.18688909 -0.21156226 -0.7020853  -0.02967486]\n",
            " [ 0.18099494 -0.76948649 -0.09697615  0.18988928]\n",
            " [-0.48488703  0.37592008  0.03227855  0.27735552]]\n",
            "[[ 1.6236421   0.          0.64872948 -0.42029906]\n",
            " [ 0.          3.826292    0.          0.36911974]\n",
            " [ 0.          0.          2.26508022  0.        ]\n",
            " [ 0.          0.          0.          1.02810254]]\n"
          ]
        }
      ]
    }
  ]
}